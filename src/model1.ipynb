{
 "cells": [
  {
   "cell_type": "code",
   "execution_count": 85,
   "metadata": {},
   "outputs": [],
   "source": [
    "import numpy as np\n",
    "import ast\n",
    "import pandas as pd\n",
    "import torch\n",
    "import torch.nn as nn\n",
    "import torch.nn.functional as F\n",
    "from torch.utils.data import TensorDataset, DataLoader\n",
    "from sklearn.model_selection import train_test_split\n",
    "from sklearn.preprocessing import MultiLabelBinarizer, StandardScaler\n",
    "from sklearn.metrics import f1_score, classification_report, precision_recall_fscore_support\n",
    "import matplotlib.pyplot as plt\n",
    "from scipy.stats import wilcoxon"
   ]
  },
  {
   "cell_type": "code",
   "execution_count": 86,
   "metadata": {},
   "outputs": [],
   "source": [
    "# Load CSV\n",
    "df = pd.read_csv(\"../data/data.csv\")\n",
    "\n",
    "# Convert stringified list columns\n",
    "df['genres'] = df['genres'].apply(ast.literal_eval)\n",
    "df['privacy_types'] = df['privacy_types'].apply(ast.literal_eval)\n",
    "df['data_categories'] = df['data_categories'].apply(ast.literal_eval)\n",
    "df['data_types'] = df['data_types'].apply(ast.literal_eval)"
   ]
  },
  {
   "cell_type": "code",
   "execution_count": 87,
   "metadata": {},
   "outputs": [],
   "source": [
    "# Encode features\n",
    "X_feats = pd.DataFrame()\n",
    "\n",
    "# Numeric and boolean features\n",
    "X_feats['price'] = df['price']\n",
    "X_feats['size'] = df['size']\n",
    "X_feats['has_in_app_purchases'] = df['has_in_app_purchases'].astype(int)"
   ]
  },
  {
   "cell_type": "code",
   "execution_count": 88,
   "metadata": {},
   "outputs": [],
   "source": [
    "# Categorical features: content_rating and country_code\n",
    "X_feats = pd.concat([\n",
    "    X_feats,\n",
    "    pd.get_dummies(df['content_rating'], prefix=\"rating\"),\n",
    "    pd.get_dummies(df['country_code'], prefix=\"country\")\n",
    "], axis=1)\n",
    "\n",
    "# Multi-hot encode genres\n",
    "mlb_genres = MultiLabelBinarizer()\n",
    "genres_encoded = mlb_genres.fit_transform(df['genres'])\n",
    "genres_df = pd.DataFrame(genres_encoded, columns=[f\"genre_{g}\" for g in mlb_genres.classes_])\n",
    "X_feats = pd.concat([X_feats, genres_df], axis=1)"
   ]
  },
  {
   "cell_type": "code",
   "execution_count": 89,
   "metadata": {},
   "outputs": [],
   "source": [
    "# Standardize features\n",
    "scaler = StandardScaler()\n",
    "X = scaler.fit_transform(X_feats)\n",
    "\n",
    "# Encode target labels (e.g. privacy_types)\n",
    "mlb_privacy = MultiLabelBinarizer()\n",
    "y_privacy = mlb_privacy.fit_transform(df['privacy_types'])"
   ]
  },
  {
   "cell_type": "code",
   "execution_count": 90,
   "metadata": {},
   "outputs": [],
   "source": [
    "X_tensor = torch.tensor(X, dtype=torch.float32)\n",
    "y_tensor = torch.tensor(y_privacy, dtype=torch.float32)\n",
    "\n",
    "X_train, X_val, y_train, y_val = train_test_split(X_tensor, y_tensor, test_size=0.2, random_state=42)\n",
    "train_loader = DataLoader(TensorDataset(X_train, y_train), batch_size=64, shuffle=True)\n",
    "val_loader = DataLoader(TensorDataset(X_val, y_val), batch_size=64)"
   ]
  },
  {
   "cell_type": "code",
   "execution_count": 91,
   "metadata": {},
   "outputs": [],
   "source": [
    "class PrivacyPredictor(nn.Module):\n",
    "    def __init__(self, input_dim, hidden1=256, hidden2=128, hidden3=64, output_dim=4):\n",
    "        super(PrivacyPredictor, self).__init__()\n",
    "        self.fc1 = nn.Linear(input_dim, hidden1)\n",
    "        self.fc2 = nn.Linear(hidden1, hidden2)\n",
    "        self.fc3 = nn.Linear(hidden2, hidden3)\n",
    "        self.out = nn.Linear(hidden3, output_dim)\n",
    "        self.dropout = nn.Dropout(0.4)\n",
    "\n",
    "    def forward(self, x):\n",
    "        x = F.relu(self.fc1(x))\n",
    "        x = self.dropout(x)\n",
    "        x = F.relu(self.fc2(x))\n",
    "        x = self.dropout(x)\n",
    "        x = F.relu(self.fc3(x))\n",
    "        x = self.dropout(x)\n",
    "        return self.out(x)"
   ]
  },
  {
   "cell_type": "code",
   "execution_count": null,
   "metadata": {},
   "outputs": [
    {
     "name": "stdout",
     "output_type": "stream",
     "text": [
      "Epoch 1/100 — F1 Score: 0.7040\n",
      "Epoch 2/100 — F1 Score: 0.7210\n",
      "Epoch 3/100 — F1 Score: 0.7350\n",
      "Epoch 4/100 — F1 Score: 0.7410\n",
      "Epoch 5/100 — F1 Score: 0.7474\n",
      "Epoch 6/100 — F1 Score: 0.7543\n",
      "Epoch 7/100 — F1 Score: 0.7496\n",
      "Epoch 8/100 — F1 Score: 0.7582\n",
      "Epoch 9/100 — F1 Score: 0.7593\n",
      "Epoch 10/100 — F1 Score: 0.7610\n",
      "Epoch 11/100 — F1 Score: 0.7627\n",
      "Epoch 12/100 — F1 Score: 0.7607\n",
      "Epoch 13/100 — F1 Score: 0.7630\n",
      "Epoch 14/100 — F1 Score: 0.7628\n",
      "Epoch 15/100 — F1 Score: 0.7611\n",
      "Epoch 16/100 — F1 Score: 0.7632\n",
      "Epoch 17/100 — F1 Score: 0.7622\n",
      "Epoch 18/100 — F1 Score: 0.7658\n",
      "Epoch 19/100 — F1 Score: 0.7654\n",
      "Epoch 20/100 — F1 Score: 0.7656\n",
      "Epoch 21/100 — F1 Score: 0.7644\n",
      "Epoch 22/100 — F1 Score: 0.7645\n",
      "Epoch 23/100 — F1 Score: 0.7668\n",
      "Epoch 24/100 — F1 Score: 0.7650\n",
      "Epoch 25/100 — F1 Score: 0.7650\n",
      "Epoch 26/100 — F1 Score: 0.7673\n",
      "Epoch 27/100 — F1 Score: 0.7661\n",
      "Epoch 28/100 — F1 Score: 0.7660\n",
      "Epoch 29/100 — F1 Score: 0.7648\n",
      "Epoch 30/100 — F1 Score: 0.7649\n",
      "Epoch 31/100 — F1 Score: 0.7661\n",
      "Epoch 32/100 — F1 Score: 0.7670\n",
      "Epoch 33/100 — F1 Score: 0.7671\n",
      "Epoch 34/100 — F1 Score: 0.7677\n",
      "Epoch 35/100 — F1 Score: 0.7669\n",
      "Epoch 36/100 — F1 Score: 0.7671\n",
      "Epoch 37/100 — F1 Score: 0.7666\n",
      "Epoch 38/100 — F1 Score: 0.7668\n",
      "Epoch 39/100 — F1 Score: 0.7667\n",
      "Epoch 40/100 — F1 Score: 0.7672\n",
      "Epoch 41/100 — F1 Score: 0.7671\n",
      "Epoch 42/100 — F1 Score: 0.7666\n",
      "Epoch 43/100 — F1 Score: 0.7666\n",
      "Epoch 44/100 — F1 Score: 0.7666\n",
      "Epoch 45/100 — F1 Score: 0.7674\n",
      "Epoch 46/100 — F1 Score: 0.7674\n",
      "Epoch 47/100 — F1 Score: 0.7675\n",
      "Epoch 48/100 — F1 Score: 0.7672\n",
      "Epoch 49/100 — F1 Score: 0.7673\n",
      "Epoch 50/100 — F1 Score: 0.7672\n",
      "Epoch 51/100 — F1 Score: 0.7670\n",
      "Epoch 52/100 — F1 Score: 0.7673\n",
      "Epoch 53/100 — F1 Score: 0.7673\n",
      "Epoch 54/100 — F1 Score: 0.7673\n",
      "Epoch 55/100 — F1 Score: 0.7673\n",
      "Epoch 56/100 — F1 Score: 0.7673\n",
      "Epoch 57/100 — F1 Score: 0.7674\n",
      "Epoch 58/100 — F1 Score: 0.7674\n",
      "Epoch 59/100 — F1 Score: 0.7674\n",
      "Epoch 60/100 — F1 Score: 0.7674\n",
      "Epoch 61/100 — F1 Score: 0.7674\n",
      "Epoch 62/100 — F1 Score: 0.7674\n",
      "Epoch 63/100 — F1 Score: 0.7674\n",
      "Epoch 64/100 — F1 Score: 0.7674\n",
      "Epoch 65/100 — F1 Score: 0.7672\n",
      "Epoch 66/100 — F1 Score: 0.7672\n",
      "Epoch 67/100 — F1 Score: 0.7672\n",
      "Epoch 68/100 — F1 Score: 0.7672\n",
      "Epoch 69/100 — F1 Score: 0.7672\n",
      "Epoch 70/100 — F1 Score: 0.7672\n",
      "Epoch 71/100 — F1 Score: 0.7672\n",
      "Epoch 72/100 — F1 Score: 0.7672\n",
      "Epoch 73/100 — F1 Score: 0.7672\n",
      "Epoch 74/100 — F1 Score: 0.7672\n",
      "Epoch 75/100 — F1 Score: 0.7672\n",
      "Epoch 76/100 — F1 Score: 0.7672\n",
      "Epoch 77/100 — F1 Score: 0.7672\n",
      "Epoch 78/100 — F1 Score: 0.7672\n",
      "Epoch 79/100 — F1 Score: 0.7672\n",
      "Epoch 80/100 — F1 Score: 0.7672\n",
      "Epoch 81/100 — F1 Score: 0.7672\n",
      "Epoch 82/100 — F1 Score: 0.7672\n",
      "Epoch 83/100 — F1 Score: 0.7672\n",
      "Epoch 84/100 — F1 Score: 0.7672\n",
      "Epoch 85/100 — F1 Score: 0.7672\n",
      "Epoch 86/100 — F1 Score: 0.7672\n",
      "Epoch 87/100 — F1 Score: 0.7672\n",
      "Epoch 88/100 — F1 Score: 0.7672\n",
      "Epoch 89/100 — F1 Score: 0.7672\n",
      "Epoch 90/100 — F1 Score: 0.7672\n",
      "Epoch 91/100 — F1 Score: 0.7672\n",
      "Epoch 92/100 — F1 Score: 0.7672\n",
      "Epoch 93/100 — F1 Score: 0.7672\n",
      "Epoch 94/100 — F1 Score: 0.7672\n",
      "Epoch 95/100 — F1 Score: 0.7672\n",
      "Epoch 96/100 — F1 Score: 0.7672\n",
      "Epoch 97/100 — F1 Score: 0.7672\n",
      "Epoch 98/100 — F1 Score: 0.7672\n",
      "Epoch 99/100 — F1 Score: 0.7672\n",
      "Epoch 100/100 — F1 Score: 0.7672\n"
     ]
    }
   ],
   "source": [
    "model = PrivacyPredictor(input_dim=X.shape[1])\n",
    "\n",
    "# Calculate pos_weight for imbalanced labels\n",
    "label_counts = y_train.sum(dim=0)\n",
    "pos_weight = (len(y_train) - label_counts) / (label_counts + 1e-6)\n",
    "criterion = nn.BCEWithLogitsLoss(pos_weight=pos_weight)\n",
    "\n",
    "optimizer = torch.optim.AdamW(model.parameters(), lr=1e-3, weight_decay=1e-4)\n",
    "scheduler = torch.optim.lr_scheduler.ReduceLROnPlateau(optimizer, mode='max', patience=2, factor=0.5)\n"
   ]
  },
  {
   "cell_type": "code",
   "execution_count": null,
   "metadata": {},
   "outputs": [],
   "source": [
    "EPOCHS = 100\n",
    "best_f1 = 0\n",
    "best_model = None\n",
    "f1_scores = []\n",
    "\n",
    "# Early stopping setup\n",
    "early_stop_patience = 7\n",
    "early_stop_counter = 0\n",
    "\n",
    "for epoch in range(EPOCHS):\n",
    "    model.train()\n",
    "    for xb, yb in train_loader:\n",
    "        logits = model(xb)\n",
    "        loss = criterion(logits, yb)\n",
    "        optimizer.zero_grad()\n",
    "        loss.backward()\n",
    "        optimizer.step()\n",
    "\n",
    "    # Validation\n",
    "    model.eval()\n",
    "    all_preds, all_true, all_probs = [], [], []\n",
    "    with torch.no_grad():\n",
    "        for xb, yb in val_loader:\n",
    "            logits = model(xb)\n",
    "            probs = torch.sigmoid(logits)\n",
    "            preds = (probs > 0.5).int()\n",
    "            all_probs.append(probs.cpu().numpy())\n",
    "            all_preds.append(preds.cpu().numpy())\n",
    "            all_true.append(yb.cpu().numpy())\n",
    "\n",
    "    all_probs = np.vstack(all_probs)\n",
    "    all_preds = np.vstack(all_preds)\n",
    "    all_true = np.vstack(all_true)\n",
    "\n",
    "    f1 = f1_score(all_true, all_preds, average=\"micro\")\n",
    "    f1_scores.append(f1)\n",
    "    print(f\"Epoch {epoch+1}/{EPOCHS} — F1 Score: {f1:.4f}\")\n",
    "\n",
    "    scheduler.step(f1)\n",
    "\n",
    "    if f1 > best_f1:\n",
    "        best_f1 = f1\n",
    "        best_model = model.state_dict()\n",
    "        early_stop_counter = 0  # reset counter if improved\n",
    "    else:\n",
    "        early_stop_counter += 1\n",
    "        print(f\"No improvement. Early stopping counter: {early_stop_counter}/{early_stop_patience}\")\n",
    "\n",
    "        if early_stop_counter >= early_stop_patience:\n",
    "            print(f\"Early stopping triggered at epoch {epoch+1}\")\n",
    "            break\n",
    "\n",
    "# Restore best model\n",
    "model.load_state_dict(best_model)\n"
   ]
  },
  {
   "cell_type": "code",
   "execution_count": 93,
   "metadata": {},
   "outputs": [
    {
     "name": "stdout",
     "output_type": "stream",
     "text": [
      "                        precision    recall  f1-score   support\n",
      "\n",
      "    Data Linked to You       0.70      0.87      0.78       890\n",
      "    Data Not Collected       0.62      0.90      0.74       555\n",
      "Data Not Linked to You       0.72      0.77      0.74      1124\n",
      "Data Used to Track You       0.76      0.87      0.81       839\n",
      "\n",
      "             micro avg       0.70      0.84      0.77      3408\n",
      "             macro avg       0.70      0.85      0.77      3408\n",
      "          weighted avg       0.71      0.84      0.77      3408\n",
      "           samples avg       0.68      0.80      0.72      3408\n",
      "\n"
     ]
    }
   ],
   "source": [
    "model.load_state_dict(best_model)\n",
    "\n",
    "# Apply fixed threshold (e.g. 0.5) to all predictions\n",
    "final_preds = (all_probs > 0.5).astype(int)\n",
    "\n",
    "# Classification report\n",
    "print(classification_report(\n",
    "    all_true, final_preds,\n",
    "    target_names=mlb_privacy.classes_,\n",
    "    zero_division=0\n",
    "))\n"
   ]
  },
  {
   "cell_type": "code",
   "execution_count": 94,
   "metadata": {},
   "outputs": [
    {
     "data": {
      "image/png": "[encoded data removed]",
      "text/plain": [
       "<Figure size 800x400 with 1 Axes>"
      ]
     },
     "metadata": {},
     "output_type": "display_data"
    }
   ],
   "source": [
    "plt.figure(figsize=(8, 4))\n",
    "plt.plot(range(1, len(f1_scores)+1), f1_scores, marker='o')\n",
    "plt.title(\"Model 1: F1 Score vs. Epochs (Privacy Type Prediction)\")\n",
    "plt.xlabel(\"Epoch\")\n",
    "plt.ylabel(\"F1 Score (micro)\")\n",
    "plt.grid(True)\n",
    "plt.tight_layout()\n",
    "plt.show()\n"
   ]
  },
  {
   "cell_type": "code",
   "execution_count": 95,
   "metadata": {},
   "outputs": [
    {
     "data": {
      "image/png": "[encoded data removed]",
      "text/plain": [
       "<Figure size 1200x500 with 1 Axes>"
      ]
     },
     "metadata": {},
     "output_type": "display_data"
    }
   ],
   "source": [
    "# %%\n",
    "# Plot label-wise precision, recall, F1\n",
    "prec, rec, f1, _ = precision_recall_fscore_support(all_true, final_preds, zero_division=0)\n",
    "labels = mlb_privacy.classes_\n",
    "\n",
    "x = np.arange(len(labels))\n",
    "width = 0.25\n",
    "\n",
    "plt.figure(figsize=(12, 5))\n",
    "plt.bar(x - width, prec, width, label='Precision')\n",
    "plt.bar(x, rec, width, label='Recall')\n",
    "plt.bar(x + width, f1, width, label='F1')\n",
    "\n",
    "plt.xticks(x, labels, rotation=30)\n",
    "plt.ylabel(\"Score\")\n",
    "plt.title(\"Label-wise Precision, Recall, F1 (With Threshold Tuning)\")\n",
    "plt.legend()\n",
    "plt.grid(True)\n",
    "plt.tight_layout()\n",
    "plt.show()\n"
   ]
  },
  {
   "cell_type": "code",
   "execution_count": 96,
   "metadata": {},
   "outputs": [
    {
     "name": "stdout",
     "output_type": "stream",
     "text": [
      "Per-sample F1 (mean): 0.7221\n",
      "Wilcoxon signed-rank test p-value (F1 > 0.65): 0.000000\n"
     ]
    }
   ],
   "source": [
    "# Per-sample F1 scores for your model\n",
    "f1_yours_sample = [\n",
    "    f1_score(all_true[i], final_preds[i], zero_division=0)\n",
    "    for i in range(len(all_true))\n",
    "]\n",
    "\n",
    "# Baseline average (e.g., 65%)\n",
    "baseline_f1 = 0.65\n",
    "f1_baseline_sample = [baseline_f1] * len(all_true)\n",
    "\n",
    "# Run Wilcoxon test\n",
    "stat, p_f1 = wilcoxon(f1_yours_sample, f1_baseline_sample, alternative='greater')\n",
    "\n",
    "print(f\"Per-sample F1 (mean): {np.mean(f1_yours_sample):.4f}\")\n",
    "print(f\"Wilcoxon signed-rank test p-value (F1 > {baseline_f1}): {p_f1:.6f}\")\n"
   ]
  }
 ],
 "metadata": {
  "kernelspec": {
   "display_name": "venv",
   "language": "python",
   "name": "python3"
  },
  "language_info": {
   "codemirror_mode": {
    "name": "ipython",
    "version": 3
   },
   "file_extension": ".py",
   "mimetype": "text/x-python",
   "name": "python",
   "nbconvert_exporter": "python",
   "pygments_lexer": "ipython3",
   "version": "3.12.10"
  }
 },
 "nbformat": 4,
 "nbformat_minor": 2
}
