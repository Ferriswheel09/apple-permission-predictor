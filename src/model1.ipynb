{
 "cells": [
  {
   "cell_type": "code",
   "execution_count": 23,
   "metadata": {},
   "outputs": [],
   "source": [
    "import numpy as np\n",
    "import torch\n",
    "import torch.nn as nn\n",
    "import torch.nn.functional as F\n",
    "from torch.utils.data import TensorDataset, DataLoader\n",
    "from sklearn.model_selection import train_test_split\n",
    "from sklearn.preprocessing import StandardScaler\n",
    "from sklearn.metrics import f1_score, classification_report, precision_recall_fscore_support\n",
    "import matplotlib.pyplot as plt\n",
    "import pickle"
   ]
  },
  {
   "cell_type": "code",
   "execution_count": 24,
   "metadata": {},
   "outputs": [],
   "source": [
    "# Load and normalize\n",
    "X = np.load(\"../processed/X_metadata.npy\")\n",
    "y_privacy = np.load(\"../processed/y_privacy.npy\")\n",
    "\n",
    "scaler = StandardScaler()\n",
    "X = scaler.fit_transform(X)"
   ]
  },
  {
   "cell_type": "code",
   "execution_count": 25,
   "metadata": {},
   "outputs": [],
   "source": [
    "X_tensor = torch.tensor(X, dtype=torch.float32)\n",
    "y_tensor = torch.tensor(y_privacy, dtype=torch.float32)\n",
    "\n",
    "X_train, X_val, y_train, y_val = train_test_split(X_tensor, y_tensor, test_size=0.2, random_state=42)\n",
    "train_loader = DataLoader(TensorDataset(X_train, y_train), batch_size=64, shuffle=True)\n",
    "val_loader = DataLoader(TensorDataset(X_val, y_val), batch_size=64)"
   ]
  },
  {
   "cell_type": "code",
   "execution_count": 26,
   "metadata": {},
   "outputs": [],
   "source": [
    "class PrivacyPredictor(nn.Module):\n",
    "    def __init__(self, input_dim, hidden1=256, hidden2=128, hidden3=64, output_dim=4):\n",
    "        super(PrivacyPredictor, self).__init__()\n",
    "        self.fc1 = nn.Linear(input_dim, hidden1)\n",
    "        self.fc2 = nn.Linear(hidden1, hidden2)\n",
    "        self.fc3 = nn.Linear(hidden2, hidden3)\n",
    "        self.out = nn.Linear(hidden3, output_dim)\n",
    "        self.dropout = nn.Dropout(0.4)\n",
    "\n",
    "    def forward(self, x):\n",
    "        x = F.relu(self.fc1(x))\n",
    "        x = self.dropout(x)\n",
    "        x = F.relu(self.fc2(x))\n",
    "        x = self.dropout(x)\n",
    "        x = F.relu(self.fc3(x))\n",
    "        x = self.dropout(x)\n",
    "        return self.out(x)"
   ]
  },
  {
   "cell_type": "code",
   "execution_count": 27,
   "metadata": {},
   "outputs": [
    {
     "name": "stdout",
     "output_type": "stream",
     "text": [
      "Epoch 1/100 — F1 Score: 0.7510\n",
      "Epoch 2/100 — F1 Score: 0.7557\n",
      "Epoch 3/100 — F1 Score: 0.7648\n",
      "Epoch 4/100 — F1 Score: 0.7655\n",
      "Epoch 5/100 — F1 Score: 0.7653\n",
      "Epoch 6/100 — F1 Score: 0.7668\n",
      "Epoch 7/100 — F1 Score: 0.7647\n",
      "Epoch 8/100 — F1 Score: 0.7666\n",
      "Epoch 9/100 — F1 Score: 0.7666\n",
      "Epoch 10/100 — F1 Score: 0.7683\n",
      "Epoch 11/100 — F1 Score: 0.7693\n",
      "Epoch 12/100 — F1 Score: 0.7655\n",
      "Epoch 13/100 — F1 Score: 0.7680\n",
      "Epoch 14/100 — F1 Score: 0.7673\n",
      "Epoch 15/100 — F1 Score: 0.7666\n",
      "Epoch 16/100 — F1 Score: 0.7664\n",
      "Early stopping.\n"
     ]
    }
   ],
   "source": [
    "model = PrivacyPredictor(input_dim=X.shape[1])\n",
    "\n",
    "# Calculate pos_weight for imbalanced labels\n",
    "label_counts = y_train.sum(dim=0)\n",
    "pos_weight = (len(y_train) - label_counts) / (label_counts + 1e-6)\n",
    "criterion = nn.BCEWithLogitsLoss(pos_weight=pos_weight)\n",
    "\n",
    "optimizer = torch.optim.AdamW(model.parameters(), lr=1e-3, weight_decay=1e-4)\n",
    "scheduler = torch.optim.lr_scheduler.ReduceLROnPlateau(optimizer, mode='max', patience=2, factor=0.5)\n",
    "\n",
    "# %%\n",
    "EPOCHS = 100\n",
    "best_f1 = 0\n",
    "wait = 0\n",
    "patience = 5\n",
    "best_model = None\n",
    "f1_scores = []\n",
    "\n",
    "for epoch in range(EPOCHS):\n",
    "    model.train()\n",
    "    for xb, yb in train_loader:\n",
    "        logits = model(xb)\n",
    "        loss = criterion(logits, yb)\n",
    "        optimizer.zero_grad()\n",
    "        loss.backward()\n",
    "        optimizer.step()\n",
    "        # Validation\n",
    "    model.eval()\n",
    "    all_preds, all_true, all_probs = [], [], []\n",
    "    with torch.no_grad():\n",
    "        for xb, yb in val_loader:\n",
    "            logits = model(xb)\n",
    "            probs = torch.sigmoid(logits)\n",
    "            preds = (probs > 0.5).int()\n",
    "            all_probs.append(probs.cpu().numpy())\n",
    "            all_preds.append(preds.cpu().numpy())\n",
    "            all_true.append(yb.cpu().numpy())\n",
    "\n",
    "    all_probs = np.vstack(all_probs)\n",
    "    all_preds = np.vstack(all_preds)\n",
    "    all_true = np.vstack(all_true)\n",
    "\n",
    "    f1 = f1_score(all_true, all_preds, average=\"micro\")\n",
    "    f1_scores.append(f1)\n",
    "    print(f\"Epoch {epoch+1}/{EPOCHS} — F1 Score: {f1:.4f}\")\n",
    "\n",
    "    scheduler.step(f1)\n",
    "    if f1 > best_f1:\n",
    "        best_f1 = f1\n",
    "        wait = 0\n",
    "        best_model = model.state_dict()\n",
    "    else:\n",
    "        wait += 1\n",
    "        if wait >= patience:\n",
    "            print(\"Early stopping.\")\n",
    "            break"
   ]
  },
  {
   "cell_type": "code",
   "execution_count": 28,
   "metadata": {},
   "outputs": [
    {
     "name": "stdout",
     "output_type": "stream",
     "text": [
      "F0.5-optimized thresholds: [np.float64(0.65), np.float64(0.75), np.float64(0.45000000000000007), np.float64(0.75)]\n",
      "                        precision    recall  f1-score   support\n",
      "\n",
      "    Data Linked to You       0.75      0.73      0.74       890\n",
      "    Data Not Collected       0.70      0.76      0.73       555\n",
      "Data Not Linked to You       0.72      0.77      0.75      1124\n",
      "Data Used to Track You       0.86      0.62      0.72       839\n",
      "\n",
      "             micro avg       0.75      0.72      0.74      3408\n",
      "             macro avg       0.76      0.72      0.73      3408\n",
      "          weighted avg       0.76      0.72      0.74      3408\n",
      "           samples avg       0.67      0.70      0.66      3408\n",
      "\n"
     ]
    }
   ],
   "source": [
    "model.load_state_dict(best_model)\n",
    "\n",
    "# %%\n",
    "# Optimal per-label threshold selection\n",
    "from sklearn.metrics import fbeta_score\n",
    "\n",
    "thresholds = []\n",
    "for i in range(all_probs.shape[1]):\n",
    "    best_t, best_f = 0.5, 0\n",
    "    for t in np.linspace(0.1, 0.9, 17):\n",
    "        pred_col = (all_probs[:, i] > t).astype(int)\n",
    "        f = fbeta_score(all_true[:, i], pred_col, beta=0.5, zero_division=0)\n",
    "        if f > best_f:\n",
    "            best_f = f\n",
    "            best_t = t\n",
    "    thresholds.append(best_t)\n",
    "\n",
    "print(\"F0.5-optimized thresholds:\", thresholds)\n",
    "\n",
    "\n",
    "# Apply thresholds\n",
    "final_preds = np.zeros_like(all_probs)\n",
    "for i, t in enumerate(thresholds):\n",
    "    final_preds[:, i] = (all_probs[:, i] > t).astype(int)\n",
    "\n",
    "# %%\n",
    "# Classification report\n",
    "with open(\"../processed/mlb_privacy.pkl\", \"rb\") as f:\n",
    "    mlb_privacy = pickle.load(f)\n",
    "\n",
    "print(classification_report(\n",
    "    all_true, final_preds,\n",
    "    target_names=mlb_privacy.classes_,\n",
    "    zero_division=0\n",
    "))"
   ]
  },
  {
   "cell_type": "code",
   "execution_count": 29,
   "metadata": {},
   "outputs": [
    {
     "data": {
      "image/png": "[encoded data removed]",
      "text/plain": [
       "<Figure size 1200x500 with 1 Axes>"
      ]
     },
     "metadata": {},
     "output_type": "display_data"
    }
   ],
   "source": [
    "# %%\n",
    "# Plot label-wise precision, recall, F1\n",
    "prec, rec, f1, _ = precision_recall_fscore_support(all_true, final_preds, zero_division=0)\n",
    "labels = mlb_privacy.classes_\n",
    "\n",
    "x = np.arange(len(labels))\n",
    "width = 0.25\n",
    "\n",
    "plt.figure(figsize=(12, 5))\n",
    "plt.bar(x - width, prec, width, label='Precision')\n",
    "plt.bar(x, rec, width, label='Recall')\n",
    "plt.bar(x + width, f1, width, label='F1')\n",
    "\n",
    "plt.xticks(x, labels, rotation=30)\n",
    "plt.ylabel(\"Score\")\n",
    "plt.title(\"Label-wise Precision, Recall, F1 (With Threshold Tuning)\")\n",
    "plt.legend()\n",
    "plt.grid(True)\n",
    "plt.tight_layout()\n",
    "plt.show()\n"
   ]
  }
 ],
 "metadata": {
  "kernelspec": {
   "display_name": "venv",
   "language": "python",
   "name": "python3"
  },
  "language_info": {
   "codemirror_mode": {
    "name": "ipython",
    "version": 3
   },
   "file_extension": ".py",
   "mimetype": "text/x-python",
   "name": "python",
   "nbconvert_exporter": "python",
   "pygments_lexer": "ipython3",
   "version": "3.12.10"
  }
 },
 "nbformat": 4,
 "nbformat_minor": 2
}
