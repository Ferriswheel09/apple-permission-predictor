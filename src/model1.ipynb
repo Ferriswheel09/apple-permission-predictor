{
 "cells": [
  {
   "cell_type": "code",
   "execution_count": 40,
   "id": "c8f2962e",
   "metadata": {},
   "outputs": [],
   "source": [
    "import numpy as np\n",
    "import torch\n",
    "import torch.nn as nn\n",
    "import torch.nn.functional as F\n",
    "from torch.utils.data import TensorDataset, DataLoader\n",
    "from sklearn.model_selection import train_test_split\n",
    "from sklearn.metrics import f1_score\n",
    "import matplotlib.pyplot as plt"
   ]
  },
  {
   "cell_type": "code",
   "execution_count": 41,
   "id": "c371b527",
   "metadata": {},
   "outputs": [
    {
     "name": "stdout",
     "output_type": "stream",
     "text": [
      "X shape: (10000, 62)\n",
      "y_privacy shape: (10000, 4)\n"
     ]
    }
   ],
   "source": [
    "X = np.load(\"../processed/X_metadata.npy\")\n",
    "y_privacy = np.load(\"../processed/y_privacy.npy\")\n",
    "\n",
    "print(\"X shape:\", X.shape)\n",
    "print(\"y_privacy shape:\", y_privacy.shape)"
   ]
  },
  {
   "cell_type": "code",
   "execution_count": 42,
   "id": "49d82a61",
   "metadata": {},
   "outputs": [],
   "source": [
    "X_tensor = torch.tensor(X, dtype=torch.float32)\n",
    "y_tensor = torch.tensor(y_privacy, dtype=torch.float32)\n",
    "\n",
    "X_train, X_val, y_train, y_val = train_test_split(\n",
    "    X_tensor, y_tensor, test_size=0.2, random_state=42\n",
    ")\n",
    "\n",
    "train_loader = DataLoader(TensorDataset(X_train, y_train), batch_size=64, shuffle=True)\n",
    "val_loader = DataLoader(TensorDataset(X_val, y_val), batch_size=64)"
   ]
  },
  {
   "cell_type": "code",
   "execution_count": 43,
   "id": "21004d2d",
   "metadata": {},
   "outputs": [],
   "source": [
    "class PrivacyPredictor(nn.Module):\n",
    "    def __init__(self, input_dim, hidden_dim=128, output_dim=4):\n",
    "        super(PrivacyPredictor, self).__init__()\n",
    "        self.fc1 = nn.Linear(input_dim, hidden_dim)\n",
    "        self.dropout = nn.Dropout(0.3)\n",
    "        self.fc2 = nn.Linear(hidden_dim, output_dim)\n",
    "    \n",
    "    def forward(self, x):\n",
    "        x = F.relu(self.fc1(x))\n",
    "        x = self.dropout(x)\n",
    "        return self.fc2(x)  # Raw logits"
   ]
  },
  {
   "cell_type": "code",
   "execution_count": 44,
   "id": "8319c01a",
   "metadata": {},
   "outputs": [],
   "source": [
    "model = PrivacyPredictor(input_dim=X.shape[1])\n",
    "criterion = nn.BCEWithLogitsLoss()\n",
    "optimizer = torch.optim.Adam(model.parameters(), lr=1e-3)"
   ]
  },
  {
   "cell_type": "code",
   "execution_count": 45,
   "id": "bdb43278",
   "metadata": {},
   "outputs": [
    {
     "name": "stdout",
     "output_type": "stream",
     "text": [
      "Epoch 1/100 — F1 Score: 0.7367\n",
      "Epoch 2/100 — F1 Score: 0.7543\n",
      "Epoch 3/100 — F1 Score: 0.7576\n",
      "Epoch 4/100 — F1 Score: 0.7594\n",
      "Epoch 5/100 — F1 Score: 0.7607\n",
      "Epoch 6/100 — F1 Score: 0.7613\n",
      "Epoch 7/100 — F1 Score: 0.7643\n",
      "Epoch 8/100 — F1 Score: 0.7634\n",
      "Epoch 9/100 — F1 Score: 0.7638\n",
      "Epoch 10/100 — F1 Score: 0.7667\n",
      "Epoch 11/100 — F1 Score: 0.7621\n",
      "Epoch 12/100 — F1 Score: 0.7620\n",
      "Epoch 13/100 — F1 Score: 0.7649\n",
      "Epoch 14/100 — F1 Score: 0.7657\n",
      "Epoch 15/100 — F1 Score: 0.7645\n",
      "Epoch 16/100 — F1 Score: 0.7633\n",
      "Epoch 17/100 — F1 Score: 0.7632\n",
      "Epoch 18/100 — F1 Score: 0.7644\n",
      "Epoch 19/100 — F1 Score: 0.7621\n",
      "Epoch 20/100 — F1 Score: 0.7633\n",
      "Epoch 21/100 — F1 Score: 0.7672\n",
      "Epoch 22/100 — F1 Score: 0.7630\n",
      "Epoch 23/100 — F1 Score: 0.7645\n",
      "Epoch 24/100 — F1 Score: 0.7662\n",
      "Epoch 25/100 — F1 Score: 0.7653\n",
      "Epoch 26/100 — F1 Score: 0.7611\n",
      "Epoch 27/100 — F1 Score: 0.7636\n",
      "Epoch 28/100 — F1 Score: 0.7618\n",
      "Epoch 29/100 — F1 Score: 0.7611\n",
      "Epoch 30/100 — F1 Score: 0.7668\n",
      "Epoch 31/100 — F1 Score: 0.7625\n",
      "Epoch 32/100 — F1 Score: 0.7655\n",
      "Epoch 33/100 — F1 Score: 0.7611\n",
      "Epoch 34/100 — F1 Score: 0.7653\n",
      "Epoch 35/100 — F1 Score: 0.7665\n",
      "Epoch 36/100 — F1 Score: 0.7640\n",
      "Epoch 37/100 — F1 Score: 0.7632\n",
      "Epoch 38/100 — F1 Score: 0.7569\n",
      "Epoch 39/100 — F1 Score: 0.7659\n",
      "Epoch 40/100 — F1 Score: 0.7651\n",
      "Epoch 41/100 — F1 Score: 0.7621\n",
      "Epoch 42/100 — F1 Score: 0.7631\n",
      "Epoch 43/100 — F1 Score: 0.7654\n",
      "Epoch 44/100 — F1 Score: 0.7695\n",
      "Epoch 45/100 — F1 Score: 0.7621\n",
      "Epoch 46/100 — F1 Score: 0.7584\n",
      "Epoch 47/100 — F1 Score: 0.7629\n",
      "Epoch 48/100 — F1 Score: 0.7670\n",
      "Epoch 49/100 — F1 Score: 0.7661\n",
      "Epoch 50/100 — F1 Score: 0.7632\n",
      "Epoch 51/100 — F1 Score: 0.7579\n",
      "Epoch 52/100 — F1 Score: 0.7585\n",
      "Epoch 53/100 — F1 Score: 0.7611\n",
      "Epoch 54/100 — F1 Score: 0.7635\n",
      "Epoch 55/100 — F1 Score: 0.7640\n",
      "Epoch 56/100 — F1 Score: 0.7639\n",
      "Epoch 57/100 — F1 Score: 0.7664\n",
      "Epoch 58/100 — F1 Score: 0.7614\n",
      "Epoch 59/100 — F1 Score: 0.7667\n",
      "Epoch 60/100 — F1 Score: 0.7648\n",
      "Epoch 61/100 — F1 Score: 0.7646\n",
      "Epoch 62/100 — F1 Score: 0.7632\n",
      "Epoch 63/100 — F1 Score: 0.7642\n",
      "Epoch 64/100 — F1 Score: 0.7662\n",
      "Epoch 65/100 — F1 Score: 0.7642\n",
      "Epoch 66/100 — F1 Score: 0.7656\n",
      "Epoch 67/100 — F1 Score: 0.7643\n",
      "Epoch 68/100 — F1 Score: 0.7654\n",
      "Epoch 69/100 — F1 Score: 0.7621\n",
      "Epoch 70/100 — F1 Score: 0.7653\n",
      "Epoch 71/100 — F1 Score: 0.7658\n",
      "Epoch 72/100 — F1 Score: 0.7642\n",
      "Epoch 73/100 — F1 Score: 0.7611\n",
      "Epoch 74/100 — F1 Score: 0.7656\n",
      "Epoch 75/100 — F1 Score: 0.7631\n",
      "Epoch 76/100 — F1 Score: 0.7604\n",
      "Epoch 77/100 — F1 Score: 0.7667\n",
      "Epoch 78/100 — F1 Score: 0.7640\n",
      "Epoch 79/100 — F1 Score: 0.7612\n",
      "Epoch 80/100 — F1 Score: 0.7656\n",
      "Epoch 81/100 — F1 Score: 0.7693\n",
      "Epoch 82/100 — F1 Score: 0.7675\n",
      "Epoch 83/100 — F1 Score: 0.7648\n",
      "Epoch 84/100 — F1 Score: 0.7643\n",
      "Epoch 85/100 — F1 Score: 0.7638\n",
      "Epoch 86/100 — F1 Score: 0.7612\n",
      "Epoch 87/100 — F1 Score: 0.7626\n",
      "Epoch 88/100 — F1 Score: 0.7619\n",
      "Epoch 89/100 — F1 Score: 0.7652\n",
      "Epoch 90/100 — F1 Score: 0.7621\n",
      "Epoch 91/100 — F1 Score: 0.7609\n",
      "Epoch 92/100 — F1 Score: 0.7597\n",
      "Epoch 93/100 — F1 Score: 0.7625\n",
      "Epoch 94/100 — F1 Score: 0.7619\n",
      "Epoch 95/100 — F1 Score: 0.7543\n",
      "Epoch 96/100 — F1 Score: 0.7621\n",
      "Epoch 97/100 — F1 Score: 0.7627\n",
      "Epoch 98/100 — F1 Score: 0.7642\n",
      "Epoch 99/100 — F1 Score: 0.7624\n",
      "Epoch 100/100 — F1 Score: 0.7627\n"
     ]
    }
   ],
   "source": [
    "EPOCHS = 100\n",
    "f1_scores = []\n",
    "\n",
    "for epoch in range(EPOCHS):\n",
    "    model.train()\n",
    "    for xb, yb in train_loader:\n",
    "        logits = model(xb)\n",
    "        loss = criterion(logits, yb)\n",
    "        optimizer.zero_grad()\n",
    "        loss.backward()\n",
    "        optimizer.step()\n",
    "\n",
    "    # Validation\n",
    "    model.eval()\n",
    "    all_preds, all_true = [], []\n",
    "    with torch.no_grad():\n",
    "        for xb, yb in val_loader:\n",
    "            probs = torch.sigmoid(model(xb))\n",
    "            preds = (probs > 0.5).int().cpu().numpy()\n",
    "            all_preds.append(preds)\n",
    "            all_true.append(yb.cpu().numpy())\n",
    "    \n",
    "    all_preds = np.vstack(all_preds)\n",
    "    all_true = np.vstack(all_true)\n",
    "    f1 = f1_score(all_true, all_preds, average=\"micro\")\n",
    "    f1_scores.append(f1)\n",
    "    print(f\"Epoch {epoch+1}/{EPOCHS} — F1 Score: {f1:.4f}\")\n"
   ]
  },
  {
   "cell_type": "code",
   "execution_count": 46,
   "id": "eb3efc68",
   "metadata": {},
   "outputs": [],
   "source": [
    "model.eval()\n",
    "all_preds, all_probs, all_true = [], [], []\n",
    "\n",
    "with torch.no_grad():\n",
    "    for xb, yb in val_loader:\n",
    "        logits = model(xb)\n",
    "        probs = torch.sigmoid(logits)\n",
    "        preds = (probs > 0.5).int()\n",
    "        \n",
    "        all_probs.append(probs.cpu().numpy())\n",
    "        all_preds.append(preds.cpu().numpy())\n",
    "        all_true.append(yb.cpu().numpy())\n",
    "\n",
    "all_probs = np.vstack(all_probs)\n",
    "all_preds = np.vstack(all_preds)\n",
    "all_true = np.vstack(all_true)\n"
   ]
  },
  {
   "cell_type": "code",
   "execution_count": null,
   "id": "624f3ba0",
   "metadata": {},
   "outputs": [
    {
     "name": "stdout",
     "output_type": "stream",
     "text": [
      "                        precision    recall  f1-score   support\n",
      "\n",
      "    Data Linked to You       0.74      0.79      0.76       890\n",
      "    Data Not Collected       0.68      0.82      0.74       555\n",
      "Data Not Linked to You       0.72      0.77      0.74      1124\n",
      "Data Used to Track You       0.77      0.84      0.80       839\n",
      "\n",
      "             micro avg       0.73      0.80      0.76      3408\n",
      "             macro avg       0.73      0.81      0.76      3408\n",
      "          weighted avg       0.73      0.80      0.76      3408\n",
      "           samples avg       0.68      0.76      0.70      3408\n",
      "\n"
     ]
    }
   ],
   "source": [
    "from sklearn.metrics import classification_report\n",
    "\n",
    "import pickle\n",
    "with open(\"../processed/mlb_privacy.pkl\", \"rb\") as f:\n",
    "    mlb_privacy = pickle.load(f)\n",
    "\n",
    "print(classification_report(\n",
    "    all_true, all_preds, \n",
    "    target_names=mlb_privacy.classes_,\n",
    "    zero_division=0\n",
    "))\n"
   ]
  },
  {
   "cell_type": "code",
   "execution_count": 48,
   "id": "0701a45f",
   "metadata": {},
   "outputs": [
    {
     "data": {
      "image/png": "[encoded data removed]",
      "text/plain": [
       "<Figure size 1200x500 with 1 Axes>"
      ]
     },
     "metadata": {},
     "output_type": "display_data"
    }
   ],
   "source": [
    "from sklearn.metrics import precision_recall_fscore_support\n",
    "import matplotlib.pyplot as plt\n",
    "\n",
    "prec, rec, f1, _ = precision_recall_fscore_support(all_true, all_preds, zero_division=0)\n",
    "labels = mlb_privacy.classes_\n",
    "\n",
    "x = np.arange(len(labels))\n",
    "width = 0.25\n",
    "\n",
    "plt.figure(figsize=(12, 5))\n",
    "plt.bar(x - width, prec, width, label='Precision')\n",
    "plt.bar(x, rec, width, label='Recall')\n",
    "plt.bar(x + width, f1, width, label='F1')\n",
    "\n",
    "plt.xticks(x, labels, rotation=30)\n",
    "plt.ylabel(\"Score\")\n",
    "plt.title(\"Label-wise Precision, Recall, F1\")\n",
    "plt.legend()\n",
    "plt.tight_layout()\n",
    "plt.grid(True)\n",
    "plt.show()\n"
   ]
  }
 ],
 "metadata": {
  "kernelspec": {
   "display_name": "venv",
   "language": "python",
   "name": "python3"
  },
  "language_info": {
   "codemirror_mode": {
    "name": "ipython",
    "version": 3
   },
   "file_extension": ".py",
   "mimetype": "text/x-python",
   "name": "python",
   "nbconvert_exporter": "python",
   "pygments_lexer": "ipython3",
   "version": "3.12.9"
  }
 },
 "nbformat": 4,
 "nbformat_minor": 5
}
