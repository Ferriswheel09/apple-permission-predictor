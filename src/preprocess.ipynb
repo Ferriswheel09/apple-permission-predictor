{
 "cells": [
  {
   "cell_type": "code",
   "execution_count": 11,
   "id": "db1c6cf2",
   "metadata": {},
   "outputs": [],
   "source": [
    "import pandas as pd\n",
    "import numpy as np\n",
    "from sklearn.preprocessing import MultiLabelBinarizer, OneHotEncoder, StandardScaler\n",
    "from sklearn.compose import ColumnTransformer\n",
    "from sklearn.pipeline import Pipeline\n",
    "import ast\n",
    "import os"
   ]
  },
  {
   "cell_type": "code",
   "execution_count": 12,
   "id": "167a8820",
   "metadata": {},
   "outputs": [],
   "source": [
    "df = pd.read_csv(\"../data/data.csv\")\n",
    "\n",
    "# Clean list columns\n",
    "list_cols = [\"genres\", \"privacy_types\", \"data_categories\", \"data_types\"]\n",
    "for col in list_cols:\n",
    "    df[col] = df[col].apply(ast.literal_eval)"
   ]
  },
  {
   "cell_type": "code",
   "execution_count": 13,
   "id": "e308bcf9",
   "metadata": {},
   "outputs": [],
   "source": [
    "df[\"log_price\"] = np.log1p(df[\"price\"])  # Normalize price\n",
    "\n",
    "df[\"has_iap\"] = df[\"has_in_app_purchases\"].astype(int)  # binary"
   ]
  },
  {
   "cell_type": "code",
   "execution_count": 14,
   "id": "3da77405",
   "metadata": {},
   "outputs": [],
   "source": [
    "mlb_genres = MultiLabelBinarizer()\n",
    "genres_encoded = mlb_genres.fit_transform(df[\"genres\"])\n",
    "genres_df = pd.DataFrame(genres_encoded, columns=[f\"genre_{g}\" for g in mlb_genres.classes_])"
   ]
  },
  {
   "cell_type": "code",
   "execution_count": 15,
   "id": "3e699407",
   "metadata": {},
   "outputs": [],
   "source": [
    "ohe = OneHotEncoder(sparse_output=False)\n",
    "categorical_features = df[[\"country_code\", \"content_rating\"]]\n",
    "ohe_features = ohe.fit_transform(categorical_features)\n",
    "ohe_df = pd.DataFrame(ohe_features, columns=ohe.get_feature_names_out([\"country_code\", \"content_rating\"]))\n",
    "\n",
    "metadata = pd.concat([\n",
    "    df[[\"log_price\", \"has_iap\"]],\n",
    "    genres_df,\n",
    "    ohe_df\n",
    "], axis=1)"
   ]
  },
  {
   "cell_type": "code",
   "execution_count": 16,
   "id": "572ba2a0",
   "metadata": {},
   "outputs": [],
   "source": [
    "mlb_privacy = MultiLabelBinarizer()\n",
    "mlb_categories = MultiLabelBinarizer()\n",
    "mlb_types = MultiLabelBinarizer()\n",
    "\n",
    "y_privacy = mlb_privacy.fit_transform(df[\"privacy_types\"])\n",
    "y_categories = mlb_categories.fit_transform(df[\"data_categories\"])\n",
    "y_types = mlb_types.fit_transform(df[\"data_types\"])"
   ]
  },
  {
   "cell_type": "code",
   "execution_count": 17,
   "id": "11f06b2d",
   "metadata": {},
   "outputs": [],
   "source": [
    "os.makedirs(\"../processed\", exist_ok=True)\n",
    "\n",
    "np.save(\"../processed/X_metadata.npy\", metadata.to_numpy())\n",
    "np.save(\"../processed/y_privacy.npy\", y_privacy)\n",
    "np.save(\"../processed/y_categories.npy\", y_categories)\n",
    "np.save(\"../processed/y_types.npy\", y_types)\n",
    "\n",
    "# Save encoders\n",
    "import pickle\n",
    "\n",
    "with open(\"../processed/mlb_privacy.pkl\", \"wb\") as f:\n",
    "    pickle.dump(mlb_privacy, f)\n",
    "with open(\"../processed/mlb_categories.pkl\", \"wb\") as f:\n",
    "    pickle.dump(mlb_categories, f)\n",
    "with open(\"../processed/mlb_types.pkl\", \"wb\") as f:\n",
    "    pickle.dump(mlb_types, f)\n",
    "with open(\"../processed/mlb_genres.pkl\", \"wb\") as f:\n",
    "    pickle.dump(mlb_genres, f)\n",
    "with open(\"../processed/ohe_meta.pkl\", \"wb\") as f:\n",
    "    pickle.dump(ohe, f)"
   ]
  },
  {
   "cell_type": "code",
   "execution_count": 18,
   "id": "b328b8ed",
   "metadata": {},
   "outputs": [
    {
     "name": "stdout",
     "output_type": "stream",
     "text": [
      "Metadata shape: (10000, 62)\n",
      "Privacy labels: (10000, 4)\n",
      "Category labels: (10000, 16)\n",
      "Data types labels: (10000, 34)\n"
     ]
    }
   ],
   "source": [
    "print(\"Metadata shape:\", metadata.shape)\n",
    "print(\"Privacy labels:\", y_privacy.shape)\n",
    "print(\"Category labels:\", y_categories.shape)\n",
    "print(\"Data types labels:\", y_types.shape)"
   ]
  }
 ],
 "metadata": {
  "kernelspec": {
   "display_name": "venv",
   "language": "python",
   "name": "python3"
  },
  "language_info": {
   "codemirror_mode": {
    "name": "ipython",
    "version": 3
   },
   "file_extension": ".py",
   "mimetype": "text/x-python",
   "name": "python",
   "nbconvert_exporter": "python",
   "pygments_lexer": "ipython3",
   "version": "3.12.9"
  }
 },
 "nbformat": 4,
 "nbformat_minor": 5
}
