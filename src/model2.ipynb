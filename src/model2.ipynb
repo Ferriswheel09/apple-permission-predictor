{
 "cells": [
  {
   "cell_type": "code",
   "execution_count": 3,
   "id": "4f67e8b0",
   "metadata": {},
   "outputs": [],
   "source": [
    "import numpy as np\n",
    "import pandas as pd\n",
    "import torch\n",
    "import torch.nn as nn\n",
    "from torch.utils.data import TensorDataset, DataLoader\n",
    "from sklearn.model_selection import train_test_split\n",
    "from sklearn.metrics import f1_score, classification_report\n",
    "from sklearn.preprocessing import MultiLabelBinarizer, StandardScaler\n",
    "import matplotlib.pyplot as plt\n",
    "import ast"
   ]
  },
  {
   "cell_type": "code",
   "execution_count": 4,
   "id": "f6d5721f",
   "metadata": {},
   "outputs": [],
   "source": [
    "# Load CSV\n",
    "df = pd.read_csv(\"../data/data.csv\")\n",
    "\n",
    "# Convert stringified list columns\n",
    "df['genres'] = df['genres'].apply(ast.literal_eval)\n",
    "df['privacy_types'] = df['privacy_types'].apply(ast.literal_eval)\n",
    "df['data_categories'] = df['data_categories'].apply(ast.literal_eval)\n",
    "df['data_types'] = df['data_types'].apply(ast.literal_eval)\n"
   ]
  },
  {
   "cell_type": "code",
   "execution_count": 5,
   "id": "e2d7328c",
   "metadata": {},
   "outputs": [],
   "source": [
    "# --- FEATURE ENCODING ---\n",
    "# Base features\n",
    "X_feats = pd.DataFrame()\n",
    "X_feats['price'] = df['price']\n",
    "X_feats['size'] = df['size']\n",
    "X_feats['has_in_app_purchases'] = df['has_in_app_purchases'].astype(int)\n",
    "\n",
    "# One-hot for country and rating\n",
    "X_feats = pd.concat([\n",
    "    X_feats,\n",
    "    pd.get_dummies(df['country_code'], prefix='country'),\n",
    "    pd.get_dummies(df['content_rating'], prefix='rating')\n",
    "], axis=1)"
   ]
  },
  {
   "cell_type": "code",
   "execution_count": 6,
   "id": "434d64b1",
   "metadata": {},
   "outputs": [],
   "source": [
    "# Multi-hot encode genres\n",
    "mlb_genres = MultiLabelBinarizer()\n",
    "genres = mlb_genres.fit_transform(df['genres'])\n",
    "X_feats = pd.concat([X_feats, pd.DataFrame(genres, columns=[f\"genre_{g}\" for g in mlb_genres.classes_])], axis=1)"
   ]
  },
  {
   "cell_type": "code",
   "execution_count": 7,
   "id": "c9037c70",
   "metadata": {},
   "outputs": [],
   "source": [
    "# --- LABELS ---\n",
    "mlb_privacy = MultiLabelBinarizer()\n",
    "mlb_categories = MultiLabelBinarizer()\n",
    "mlb_types = MultiLabelBinarizer()\n",
    "\n",
    "y_privacy = mlb_privacy.fit_transform(df['privacy_types'])\n",
    "y_categories = mlb_categories.fit_transform(df['data_categories'])\n",
    "y_types = mlb_types.fit_transform(df['data_types'])"
   ]
  },
  {
   "cell_type": "code",
   "execution_count": 8,
   "id": "9264b1b3",
   "metadata": {},
   "outputs": [
    {
     "name": "stdout",
     "output_type": "stream",
     "text": [
      "Combined input shape: (10000, 83)\n"
     ]
    }
   ],
   "source": [
    "# Combine Step 1 predicted outputs as inputs to Step 2\n",
    "X_combined = np.concatenate([X_feats, y_privacy, y_categories], axis=1)\n",
    "print(\"Combined input shape:\", X_combined.shape)\n",
    "\n",
    "# Normalize\n",
    "scaler = StandardScaler()\n",
    "X_combined = scaler.fit_transform(X_combined)"
   ]
  },
  {
   "cell_type": "code",
   "execution_count": 9,
   "id": "a4505696",
   "metadata": {},
   "outputs": [],
   "source": [
    "X_tensor = torch.tensor(X_combined, dtype=torch.float32)\n",
    "y_tensor = torch.tensor(y_types, dtype=torch.float32)\n",
    "\n",
    "X_train, X_val, y_train, y_val = train_test_split(X_tensor, y_tensor, test_size=0.2, random_state=42)\n",
    "\n",
    "train_loader = DataLoader(TensorDataset(X_train, y_train), batch_size=64, shuffle=True)\n",
    "val_loader = DataLoader(TensorDataset(X_val, y_val), batch_size=64)\n"
   ]
  },
  {
   "cell_type": "code",
   "execution_count": 10,
   "id": "f5e3ecd4",
   "metadata": {},
   "outputs": [],
   "source": [
    "class DataTypePredictor(nn.Module):\n",
    "    def __init__(self, input_dim, hidden_dim=128, output_dim=34):\n",
    "        super(DataTypePredictor, self).__init__()\n",
    "        self.net = nn.Sequential(\n",
    "            nn.Linear(input_dim, hidden_dim),\n",
    "            nn.ReLU(),\n",
    "            nn.Dropout(0.3),\n",
    "            nn.Linear(hidden_dim, output_dim)\n",
    "        )\n",
    "\n",
    "    def forward(self, x):\n",
    "        return self.net(x)\n"
   ]
  },
  {
   "cell_type": "code",
   "execution_count": null,
   "id": "0e1426d1",
   "metadata": {},
   "outputs": [
    {
     "name": "stdout",
     "output_type": "stream",
     "text": [
      "Epoch 1: F1 Score = 0.7150\n",
      "Epoch 2: F1 Score = 0.7780\n",
      "Epoch 3: F1 Score = 0.8097\n",
      "Epoch 4: F1 Score = 0.8269\n",
      "Epoch 5: F1 Score = 0.8319\n",
      "Epoch 6: F1 Score = 0.8391\n",
      "Epoch 7: F1 Score = 0.8404\n",
      "Epoch 8: F1 Score = 0.8427\n",
      "Epoch 9: F1 Score = 0.8416\n",
      "Epoch 10: F1 Score = 0.8455\n",
      "Epoch 11: F1 Score = 0.8429\n",
      "Epoch 12: F1 Score = 0.8444\n",
      "Epoch 13: F1 Score = 0.8435\n",
      "Epoch 14: F1 Score = 0.8443\n",
      "Epoch 15: F1 Score = 0.8467\n",
      "Epoch 16: F1 Score = 0.8442\n",
      "Epoch 17: F1 Score = 0.8451\n",
      "Epoch 18: F1 Score = 0.8449\n",
      "Epoch 19: F1 Score = 0.8444\n",
      "Epoch 20: F1 Score = 0.8453\n",
      "Epoch 21: F1 Score = 0.8461\n",
      "Epoch 22: F1 Score = 0.8454\n",
      "Epoch 23: F1 Score = 0.8475\n",
      "Epoch 24: F1 Score = 0.8464\n",
      "Epoch 25: F1 Score = 0.8477\n",
      "Epoch 26: F1 Score = 0.8463\n",
      "Epoch 27: F1 Score = 0.8464\n",
      "Epoch 28: F1 Score = 0.8475\n",
      "Epoch 29: F1 Score = 0.8462\n",
      "Epoch 30: F1 Score = 0.8465\n",
      "Epoch 31: F1 Score = 0.8467\n",
      "Epoch 32: F1 Score = 0.8458\n",
      "Epoch 33: F1 Score = 0.8475\n",
      "Epoch 34: F1 Score = 0.8468\n",
      "Epoch 35: F1 Score = 0.8470\n",
      "Epoch 36: F1 Score = 0.8463\n",
      "Epoch 37: F1 Score = 0.8467\n",
      "Epoch 38: F1 Score = 0.8475\n",
      "Epoch 39: F1 Score = 0.8477\n",
      "Epoch 40: F1 Score = 0.8480\n",
      "Epoch 41: F1 Score = 0.8465\n",
      "Epoch 42: F1 Score = 0.8486\n",
      "Epoch 43: F1 Score = 0.8478\n",
      "Epoch 44: F1 Score = 0.8466\n",
      "Epoch 45: F1 Score = 0.8478\n",
      "Epoch 46: F1 Score = 0.8476\n",
      "Epoch 47: F1 Score = 0.8466\n",
      "Epoch 48: F1 Score = 0.8484\n",
      "Epoch 49: F1 Score = 0.8488\n",
      "Epoch 50: F1 Score = 0.8479\n",
      "Epoch 51: F1 Score = 0.8470\n",
      "Epoch 52: F1 Score = 0.8465\n",
      "Epoch 53: F1 Score = 0.8479\n",
      "Epoch 54: F1 Score = 0.8478\n",
      "Epoch 55: F1 Score = 0.8477\n",
      "Epoch 56: F1 Score = 0.8462\n",
      "Epoch 57: F1 Score = 0.8471\n",
      "Epoch 58: F1 Score = 0.8494\n",
      "Epoch 59: F1 Score = 0.8476\n",
      "Epoch 60: F1 Score = 0.8464\n",
      "Epoch 61: F1 Score = 0.8473\n",
      "Epoch 62: F1 Score = 0.8481\n",
      "Epoch 63: F1 Score = 0.8463\n",
      "Epoch 64: F1 Score = 0.8467\n",
      "Epoch 65: F1 Score = 0.8481\n",
      "Epoch 66: F1 Score = 0.8479\n",
      "Epoch 67: F1 Score = 0.8474\n",
      "Epoch 68: F1 Score = 0.8478\n",
      "Epoch 69: F1 Score = 0.8465\n",
      "Epoch 70: F1 Score = 0.8494\n",
      "Epoch 71: F1 Score = 0.8482\n",
      "Epoch 72: F1 Score = 0.8478\n",
      "Epoch 73: F1 Score = 0.8499\n",
      "Epoch 74: F1 Score = 0.8492\n",
      "Epoch 75: F1 Score = 0.8495\n",
      "Epoch 76: F1 Score = 0.8491\n",
      "Epoch 77: F1 Score = 0.8486\n",
      "Epoch 78: F1 Score = 0.8486\n",
      "Epoch 79: F1 Score = 0.8489\n",
      "Epoch 80: F1 Score = 0.8487\n",
      "Epoch 81: F1 Score = 0.8494\n",
      "Epoch 82: F1 Score = 0.8473\n",
      "Epoch 83: F1 Score = 0.8478\n",
      "Epoch 84: F1 Score = 0.8499\n",
      "Epoch 85: F1 Score = 0.8474\n",
      "Epoch 86: F1 Score = 0.8488\n",
      "Epoch 87: F1 Score = 0.8499\n",
      "Epoch 88: F1 Score = 0.8496\n",
      "Epoch 89: F1 Score = 0.8512\n",
      "Epoch 90: F1 Score = 0.8483\n",
      "Epoch 91: F1 Score = 0.8477\n",
      "Epoch 92: F1 Score = 0.8495\n",
      "Epoch 93: F1 Score = 0.8475\n",
      "Epoch 94: F1 Score = 0.8508\n",
      "Epoch 95: F1 Score = 0.8510\n",
      "Epoch 96: F1 Score = 0.8487\n",
      "Epoch 97: F1 Score = 0.8494\n",
      "Epoch 98: F1 Score = 0.8499\n",
      "Epoch 99: F1 Score = 0.8496\n",
      "Epoch 100: F1 Score = 0.8493\n"
     ]
    }
   ],
   "source": [
    "model = DataTypePredictor(input_dim=X_combined.shape[1])\n",
    "criterion = nn.BCEWithLogitsLoss()\n",
    "optimizer = torch.optim.Adam(model.parameters(), lr=1e-3)\n",
    "\n",
    "f1_scores = []\n",
    "\n",
    "for epoch in range(100):\n",
    "    model.train()\n",
    "    for xb, yb in train_loader:\n",
    "        logits = model(xb)\n",
    "        loss = criterion(logits, yb)\n",
    "        optimizer.zero_grad()\n",
    "        loss.backward()\n",
    "        optimizer.step()\n",
    "\n",
    "    # Eval\n",
    "    model.eval()\n",
    "    all_preds, all_true = [], []\n",
    "    with torch.no_grad():\n",
    "        for xb, yb in val_loader:\n",
    "            probs = torch.sigmoid(model(xb))\n",
    "            preds = (probs > 0.5).int().cpu().numpy()\n",
    "            all_preds.append(preds)\n",
    "            all_true.append(yb.cpu().numpy())\n",
    "    \n",
    "    all_preds = np.vstack(all_preds)\n",
    "    all_true = np.vstack(all_true)\n",
    "    f1 = f1_score(all_true, all_preds, average=\"micro\")\n",
    "    f1_scores.append(f1)\n",
    "    print(f\"Epoch {epoch+1}: F1 Score = {f1:.4f}\")\n"
   ]
  },
  {
   "cell_type": "code",
   "execution_count": 12,
   "id": "2f6ad601",
   "metadata": {},
   "outputs": [
    {
     "data": {
      "image/png": "[encoded data removed]",
      "text/plain": [
       "<Figure size 640x480 with 1 Axes>"
      ]
     },
     "metadata": {},
     "output_type": "display_data"
    }
   ],
   "source": [
    "plt.plot(range(1, len(f1_scores)+1), f1_scores, marker=\"o\")\n",
    "plt.xlabel(\"Epoch\")\n",
    "plt.ylabel(\"F1 Score (micro)\")\n",
    "plt.title(\"Step 2: Predicting Data Types\")\n",
    "plt.grid(True)\n",
    "plt.show()\n"
   ]
  },
  {
   "cell_type": "code",
   "execution_count": 15,
   "id": "b79ab73d",
   "metadata": {},
   "outputs": [
    {
     "name": "stdout",
     "output_type": "stream",
     "text": [
      "                         precision    recall  f1-score   support\n",
      "\n",
      "       Advertising Data       0.74      0.82      0.77       594\n",
      "             Audio Data       0.73      0.12      0.21        92\n",
      "       Browsing History       1.00      1.00      1.00        38\n",
      "        Coarse Location       0.85      0.95      0.90       534\n",
      "               Contacts       1.00      1.00      1.00        75\n",
      "             Crash Data       0.96      1.00      0.98      1168\n",
      "            Credit Info       0.67      0.12      0.21        16\n",
      "       Customer Support       0.74      0.83      0.78       385\n",
      "              Device ID       0.88      0.98      0.93       988\n",
      "          Email Address       0.94      1.00      0.97       601\n",
      "Emails or Text Messages       0.40      0.04      0.06        57\n",
      "   Environment Scanning       0.00      0.00      0.00         1\n",
      "                Fitness       0.58      0.59      0.58        32\n",
      "       Gameplay Content       0.56      0.39      0.46        97\n",
      "                  Hands       0.00      0.00      0.00         0\n",
      "                 Health       0.96      0.92      0.94        53\n",
      "                   Name       0.80      0.86      0.83       449\n",
      "       Other Data Types       1.00      1.00      1.00       208\n",
      "  Other Diagnostic Data       0.54      0.49      0.51       534\n",
      "   Other Financial Info       0.62      0.43      0.51        37\n",
      "       Other Usage Data       0.62      0.27      0.38       340\n",
      "Other User Contact Info       0.60      0.13      0.22        67\n",
      "     Other User Content       0.61      0.31      0.41       181\n",
      "           Payment Info       0.95      0.96      0.95       146\n",
      "       Performance Data       0.79      0.92      0.85       903\n",
      "           Phone Number       0.83      0.74      0.78       293\n",
      "       Photos or Videos       0.71      0.71      0.71       310\n",
      "       Physical Address       0.84      0.65      0.73       204\n",
      "       Precise Location       0.74      0.75      0.75       296\n",
      "    Product Interaction       0.95      0.99      0.97      1162\n",
      "       Purchase History       1.00      1.00      1.00       454\n",
      "         Search History       1.00      1.00      1.00       181\n",
      "         Sensitive Info       1.00      1.00      1.00        65\n",
      "                User ID       0.87      0.91      0.89       868\n",
      "\n",
      "              micro avg       0.85      0.85      0.85     11429\n",
      "              macro avg       0.75      0.67      0.68     11429\n",
      "           weighted avg       0.84      0.85      0.84     11429\n",
      "            samples avg       0.61      0.61      0.60     11429\n",
      "\n"
     ]
    }
   ],
   "source": [
    "print(classification_report(\n",
    "    all_true, all_preds, \n",
    "    target_names=mlb_types.classes_,\n",
    "    zero_division=0\n",
    "))\n"
   ]
  }
 ],
 "metadata": {
  "kernelspec": {
   "display_name": "venv",
   "language": "python",
   "name": "python3"
  },
  "language_info": {
   "codemirror_mode": {
    "name": "ipython",
    "version": 3
   },
   "file_extension": ".py",
   "mimetype": "text/x-python",
   "name": "python",
   "nbconvert_exporter": "python",
   "pygments_lexer": "ipython3",
   "version": "3.12.10"
  }
 },
 "nbformat": 4,
 "nbformat_minor": 5
}
