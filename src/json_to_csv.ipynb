{
 "cells": [
  {
   "cell_type": "code",
   "execution_count": 1,
   "metadata": {},
   "outputs": [],
   "source": [
    "import json \n",
    "import pandas as pd \n",
    "import numpy as np"
   ]
  },
  {
   "cell_type": "code",
   "execution_count": null,
   "metadata": {},
   "outputs": [],
   "source": [
    "# Load the JSON from the file after extracting the zip\n",
    "with open(\"../data/data.json\", \"r\", encoding=\"utf-8\") as f:\n",
    "    data = json.load(f)\n",
    "\n",
    "# Extract the list of apps from hits ONLY\n",
    "apps = [hit[\"_source\"] for hit in data[\"hits\"][\"hits\"]]\n"
   ]
  },
  {
   "cell_type": "code",
   "execution_count": 3,
   "metadata": {},
   "outputs": [],
   "source": [
    "# Function to process one app\n",
    "def process_app(entry):\n",
    "    app = {}\n",
    "\n",
    "    # Basic app metadata (not including any rating values, as new devs wouldn't have this info)\n",
    "    app[\"app_id\"] = entry.get(\"app_id\")\n",
    "    app[\"app_name\"] = entry.get(\"app_name\")\n",
    "    app[\"country_code\"] = entry.get(\"country_code\")\n",
    "    app[\"content_rating\"] = entry[\"metadata\"].get(\"content_rating\", \"\")\n",
    "    app[\"has_in_app_purchases\"] = entry[\"metadata\"].get(\"has_in_app_purchases\", False)\n",
    "    app[\"price\"] = entry[\"metadata\"].get(\"price\", 0)\n",
    "\n",
    "    # All genres as a list of strings\n",
    "    genres = entry[\"metadata\"].get(\"genres\", [])\n",
    "    app[\"genres\"] = [g.get(\"attributes\", {}).get(\"name\", \"\") for g in genres]\n",
    "\n",
    "    # Privacy labels\n",
    "    labels = entry.get(\"privacylabels\", {}).get(\"privacyDetails\", {}).get(\"privacyTypes\", [])\n",
    "    privacy_types = []\n",
    "    data_categories = set()\n",
    "    data_types = set()\n",
    "\n",
    "    for label in labels:\n",
    "        pt = label.get(\"privacyType\")\n",
    "        if pt:\n",
    "            privacy_types.append(pt)\n",
    "\n",
    "        for cat in label.get(\"dataCategories\", []):\n",
    "            data_categories.add(cat.get(\"dataCategory\", \"\"))\n",
    "            for dt in cat.get(\"dataTypes\", []):\n",
    "                data_types.add(dt)\n",
    "\n",
    "        # Handle nested dataCategories under purposes\n",
    "        for purpose in label.get(\"purposes\", []):\n",
    "            for cat in purpose.get(\"dataCategories\", []):\n",
    "                data_categories.add(cat.get(\"dataCategory\", \"\"))\n",
    "                for dt in cat.get(\"dataTypes\", []):\n",
    "                    data_types.add(dt)\n",
    "\n",
    "    app[\"privacy_types\"] = privacy_types\n",
    "    app[\"data_categories\"] = list(data_categories)\n",
    "    app[\"data_types\"] = list(data_types)\n",
    "\n",
    "    return app\n",
    "\n",
    "# Process all apps\n",
    "processed_apps = [process_app(a) for a in apps]"
   ]
  },
  {
   "cell_type": "code",
   "execution_count": null,
   "metadata": {},
   "outputs": [],
   "source": [
    "# Save to CSV for model training\n",
    "df = pd.DataFrame(processed_apps)\n",
    "df.to_csv(\"../data/data.csv\", index=False)"
   ]
  }
 ],
 "metadata": {
  "kernelspec": {
   "display_name": "venv",
   "language": "python",
   "name": "python3"
  },
  "language_info": {
   "codemirror_mode": {
    "name": "ipython",
    "version": 3
   },
   "file_extension": ".py",
   "mimetype": "text/x-python",
   "name": "python",
   "nbconvert_exporter": "python",
   "pygments_lexer": "ipython3",
   "version": "3.12.9"
  }
 },
 "nbformat": 4,
 "nbformat_minor": 2
}
